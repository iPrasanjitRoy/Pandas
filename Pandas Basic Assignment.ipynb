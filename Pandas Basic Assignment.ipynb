{
 "cells": [
  {
   "cell_type": "code",
   "execution_count": 1,
   "id": "e27d0eeb-ce13-4015-90b5-8b68438d8eee",
   "metadata": {},
   "outputs": [
    {
     "name": "stdout",
     "output_type": "stream",
     "text": [
      "0     4\n",
      "1     8\n",
      "2    15\n",
      "3    16\n",
      "4    23\n",
      "5    42\n",
      "dtype: int64\n"
     ]
    }
   ],
   "source": [
    "# Q1. Create a Pandas Series that contains the following data: 4, 8, 15, 16, 23, and 42. Then, print the series \n",
    "\n",
    "import pandas as pd\n",
    "\n",
    "data = [4, 8, 15, 16, 23, 42]\n",
    "series = pd.Series(data)\n",
    "print(series)\n"
   ]
  },
  {
   "cell_type": "code",
   "execution_count": 2,
   "id": "b53e32d4-6ec3-4b17-b890-6d27f50827a3",
   "metadata": {},
   "outputs": [
    {
     "name": "stdout",
     "output_type": "stream",
     "text": [
      "0     1\n",
      "1     2\n",
      "2     3\n",
      "3     4\n",
      "4     5\n",
      "5     6\n",
      "6     7\n",
      "7     8\n",
      "8     9\n",
      "9    10\n",
      "dtype: int64\n"
     ]
    }
   ],
   "source": [
    "# Q2. Create a variable of list type containing 10 elements in it, and apply pandas Series function on the variable print it\n",
    "\n",
    "import pandas as pd\n",
    "\n",
    "my_list = [1, 2, 3, 4, 5, 6, 7, 8, 9, 10]\n",
    "series = pd.Series(my_list)\n",
    "print(series)\n"
   ]
  },
  {
   "cell_type": "code",
   "execution_count": 3,
   "id": "3f7576a3-37e1-4a40-a1c7-cba6562d0aa0",
   "metadata": {},
   "outputs": [
    {
     "name": "stdout",
     "output_type": "stream",
     "text": [
      "     Name  Age  Gender\n",
      "0   Alice   25  Female\n",
      "1     Bob   30    Male\n",
      "2  Claire   27  Female\n"
     ]
    }
   ],
   "source": [
    "# Q3. Create a Pandas DataFrame that contains the following data: \n",
    "\n",
    "\"\"\"\n",
    "Name \n",
    "Alice\n",
    "Bob\n",
    "Claire\n",
    "\n",
    "Age\n",
    "25\n",
    "30\n",
    "27\n",
    "\n",
    "Gender\n",
    "Female\n",
    "Male\n",
    "Female\n",
    "\"\"\"\n",
    "\n",
    "\n",
    "\n",
    "import pandas as pd\n",
    "\n",
    "data = {\n",
    "    'Name': ['Alice', 'Bob', 'Claire'],\n",
    "    'Age': [25, 30, 27],\n",
    "    'Gender': ['Female', 'Male', 'Female']\n",
    "}\n",
    "\n",
    "df = pd.DataFrame(data)\n",
    "print(df)\n"
   ]
  },
  {
   "cell_type": "code",
   "execution_count": 4,
   "id": "7c7b2225-f984-4ea3-8146-b0394b9cac8f",
   "metadata": {},
   "outputs": [
    {
     "name": "stdout",
     "output_type": "stream",
     "text": [
      "0     4\n",
      "1     8\n",
      "2    15\n",
      "3    16\n",
      "4    23\n",
      "5    42\n",
      "dtype: int64\n",
      "   Numbers Letters\n",
      "0        4       A\n",
      "1        8       B\n",
      "2       15       C\n",
      "3       16       D\n",
      "4       23       E\n",
      "5       42       F\n"
     ]
    }
   ],
   "source": [
    "# Q4. What is ‘DataFrame’ in pandas and how is it different from pandas.series? Explain with an example\n",
    "\n",
    "# ---> In Pandas, a DataFrame is a two-dimensional tabular data structure that consists of rows and columns \n",
    "\n",
    "# ----> A pandas Series is a one-dimensional array \n",
    "\n",
    "import pandas as pd\n",
    "\n",
    "# Creating a Series\n",
    "series = pd.Series([4, 8, 15, 16, 23, 42])\n",
    "print(series) \n",
    "\n",
    "# Creating a DataFrame\n",
    "data = {\n",
    "    'Numbers': [4, 8, 15, 16, 23, 42],\n",
    "    'Letters': ['A', 'B', 'C', 'D', 'E', 'F']\n",
    "}\n",
    "df = pd.DataFrame(data)\n",
    "print(df) \n"
   ]
  },
  {
   "cell_type": "code",
   "execution_count": 5,
   "id": "bde8a526-38c8-419d-97c5-8821457bfb80",
   "metadata": {},
   "outputs": [
    {
     "name": "stdout",
     "output_type": "stream",
     "text": [
      "Head:\n",
      "       Name  Age  Grade      City\n",
      "0     John   18     85  New York\n",
      "1    Emily   19     92    London\n",
      "2  Michael   20     78     Paris\n",
      "3  Jessica   18     95    Berlin\n",
      "4    David   21     88     Tokyo\n",
      "\n",
      "Tail:\n",
      "       Name  Age  Grade      City\n",
      "0     John   18     85  New York\n",
      "1    Emily   19     92    London\n",
      "2  Michael   20     78     Paris\n",
      "3  Jessica   18     95    Berlin\n",
      "4    David   21     88     Tokyo\n",
      "\n",
      "Describe:\n",
      "            Age      Grade\n",
      "count   5.00000   5.000000\n",
      "mean   19.20000  87.600000\n",
      "std     1.30384   6.580274\n",
      "min    18.00000  78.000000\n",
      "25%    18.00000  85.000000\n",
      "50%    19.00000  88.000000\n",
      "75%    20.00000  92.000000\n",
      "max    21.00000  95.000000\n",
      "\n",
      "loc[0]:\n",
      "Name         John\n",
      "Age            18\n",
      "Grade          85\n",
      "City     New York\n",
      "Name: 0, dtype: object\n",
      "\n",
      "iloc[2]:\n",
      "Name     Michael\n",
      "Age           20\n",
      "Grade         78\n",
      "City       Paris\n",
      "Name: 2, dtype: object\n",
      "\n",
      "DataFrame after dropping 'City' column:\n",
      "       Name  Age  Grade\n",
      "0     John   18     85\n",
      "1    Emily   19     92\n",
      "2  Michael   20     78\n",
      "3  Jessica   18     95\n",
      "4    David   21     88\n"
     ]
    }
   ],
   "source": [
    "# Q5. What are some common functions you can use to manipulate data in a Pandas DataFrame? \n",
    "# Can you give an example of when you might use one of these functions? \n",
    "\n",
    "\n",
    "\n",
    "\"\"\"\n",
    "Pandas provides a wide range of functions to manipulate data in a DataFrame.\n",
    "\n",
    "head() and tail(): These functions allow you to view the first few rows (head) or the last few rows (tail) of a DataFrame. They are useful for quickly inspecting the structure and content of the data.\n",
    "\n",
    "info(): This function provides a summary of the DataFrame, including the number of non-null values and data types of each column. It is helpful for understanding the data types and identifying missing values.\n",
    "\n",
    "describe(): This function generates descriptive statistics of the DataFrame, such as count, mean, standard deviation, minimum, and maximum values. It provides a comprehensive summary of the numerical columns in the DataFrame.\n",
    "\n",
    "loc[] and iloc[]: These functions are used for accessing rows and columns in a DataFrame. The loc[] function allows you to access rows and columns using labels, while the iloc[] function uses integer-based indexing. They are commonly used to retrieve specific data points or subsets of a DataFrame.\n",
    "\n",
    "\n",
    "drop(): This function is used to remove rows or columns from a DataFrame. You can specify the labels of rows or columns to be dropped, along with the axis parameter (0 for rows, 1 for columns). It is useful when you want to remove unnecessary or redundant data from the DataFrame.\n",
    "\n",
    "\n",
    "sort_values(): This function sorts the DataFrame based on one or more columns. You can specify the column(s) to sort by, and optionally the sort order (ascending or descending). It is often used to arrange the data in a specific order for analysis or presentation.\n",
    "\n",
    "groupby(): This function is used for grouping the data based on one or more columns. It allows you to split the data into groups and perform operations on each group independently. Grouping is commonly used in data analysis to calculate aggregate statistics or perform group-specific computations.\n",
    "\n",
    "\n",
    "merge() or join(): These functions are used to combine multiple DataFrames based on a common column or index. They allow you to perform database-style joins, such as inner, outer, left, or right join, to merge the data from different sources into a single DataFrame.\n",
    "\n",
    "\"\"\"\n",
    "\n",
    "import pandas as pd\n",
    "\n",
    "data = {\n",
    "    'Name': ['John', 'Emily', 'Michael', 'Jessica', 'David'],\n",
    "    'Age': [18, 19, 20, 18, 21],\n",
    "    'Grade': [85, 92, 78, 95, 88],\n",
    "    'City': ['New York', 'London', 'Paris', 'Berlin', 'Tokyo']\n",
    "}\n",
    "df = pd.DataFrame(data)\n",
    "\n",
    "\n",
    "print(\"Head:\\n\", df.head())\n",
    "\n",
    "\n",
    "print(\"\\nTail:\\n\", df.tail())\n",
    "\n",
    "\n",
    "print(\"\\nDescribe:\")\n",
    "print(df.describe())\n",
    "\n",
    "print(\"\\nloc[0]:\")\n",
    "print(df.loc[0]) \n",
    "\n",
    "\n",
    "print(\"\\niloc[2]:\")\n",
    "print(df.iloc[2])  \n",
    "\n",
    "\n",
    "df_dropped = df.drop('City', axis=1)\n",
    "print(\"\\nDataFrame after dropping 'City' column:\\n\", df_dropped) \n"
   ]
  },
  {
   "cell_type": "code",
   "execution_count": 6,
   "id": "bca977d1-1a25-4ab1-9284-57402953eeab",
   "metadata": {},
   "outputs": [
    {
     "name": "stdout",
     "output_type": "stream",
     "text": [
      "   key1  key2  key3  key11  key22  key33\n",
      "a     1     4     3    1.0    4.0    3.0\n",
      "b     2     5     4    2.0    5.0    4.0\n",
      "c     4     6     5    NaN    NaN    NaN\n",
      "d     5     7     6    NaN    NaN    NaN\n",
      "e     6     8     6    NaN    NaN    NaN\n"
     ]
    }
   ],
   "source": [
    "# Join ----------------------------------------->\n",
    "import pandas as pd\n",
    "\n",
    "data1 = pd.DataFrame({\n",
    "    'key1': [1, 2, 4, 5, 6],\n",
    "    'key2': [4, 5, 6, 7, 8],\n",
    "    'key3': [3, 4, 5, 6, 6]\n",
    "}, index=['a', 'b', 'c', 'd', 'e'])\n",
    "\n",
    "data2 = pd.DataFrame({\n",
    "    'key11': [1, 2, 4, 5, 6],\n",
    "    'key22': [4, 5, 6, 7, 8],\n",
    "    'key33': [3, 4, 5, 6, 6]\n",
    "}, index=['a', 'b', 'h', 'i', 'j'])\n",
    "\n",
    "joined_data = data1.join(data2)\n",
    "\n",
    "print(joined_data)\n"
   ]
  },
  {
   "cell_type": "code",
   "execution_count": 7,
   "id": "74be016b-df23-4950-a5b8-f07030a5cfed",
   "metadata": {},
   "outputs": [
    {
     "data": {
      "text/html": [
       "<div>\n",
       "<style scoped>\n",
       "    .dataframe tbody tr th:only-of-type {\n",
       "        vertical-align: middle;\n",
       "    }\n",
       "\n",
       "    .dataframe tbody tr th {\n",
       "        vertical-align: top;\n",
       "    }\n",
       "\n",
       "    .dataframe thead th {\n",
       "        text-align: right;\n",
       "    }\n",
       "</style>\n",
       "<table border=\"1\" class=\"dataframe\">\n",
       "  <thead>\n",
       "    <tr style=\"text-align: right;\">\n",
       "      <th></th>\n",
       "      <th>key1</th>\n",
       "      <th>key2</th>\n",
       "      <th>key3</th>\n",
       "      <th>key4</th>\n",
       "      <th>key5</th>\n",
       "    </tr>\n",
       "  </thead>\n",
       "  <tbody>\n",
       "    <tr>\n",
       "      <th>0</th>\n",
       "      <td>1</td>\n",
       "      <td>4</td>\n",
       "      <td>3</td>\n",
       "      <td>56</td>\n",
       "      <td>3</td>\n",
       "    </tr>\n",
       "    <tr>\n",
       "      <th>1</th>\n",
       "      <td>2</td>\n",
       "      <td>5</td>\n",
       "      <td>4</td>\n",
       "      <td>5</td>\n",
       "      <td>56</td>\n",
       "    </tr>\n",
       "    <tr>\n",
       "      <th>2</th>\n",
       "      <td>6</td>\n",
       "      <td>8</td>\n",
       "      <td>6</td>\n",
       "      <td>7</td>\n",
       "      <td>6</td>\n",
       "    </tr>\n",
       "  </tbody>\n",
       "</table>\n",
       "</div>"
      ],
      "text/plain": [
       "   key1  key2  key3  key4  key5\n",
       "0     1     4     3    56     3\n",
       "1     2     5     4     5    56\n",
       "2     6     8     6     7     6"
      ]
     },
     "execution_count": 7,
     "metadata": {},
     "output_type": "execute_result"
    }
   ],
   "source": [
    "# Merge Data -----------------------------------------> \n",
    "data1 = pd.DataFrame({'key1':[1,2,4,5,6],\n",
    "                      'key2':[4,5,6,7,8],\n",
    "                      'key3':[3,4,5,6,6]\n",
    "}\n",
    ")\n",
    "\n",
    "data2 = pd.DataFrame({'key1':[1,2,45,6,67],\n",
    "                      'key4':[56,5,6,7,8],\n",
    "                      'key5':[3,56,5,6,6]\n",
    "}\n",
    ")\n",
    "\n",
    "\n",
    "pd.merge(data1,data2)"
   ]
  },
  {
   "cell_type": "code",
   "execution_count": 8,
   "id": "79589c2a-196c-432b-ba55-6be3884b5e32",
   "metadata": {},
   "outputs": [],
   "source": [
    "import pandas as pd\n",
    "\n",
    "df = pd.read_csv(\"https://raw.githubusercontent.com/datasciencedojo/datasets/master/titanic.csv\")\n",
    "\n",
    "# Save the DataFrame as a CSV file\n",
    "df.to_csv('titanic_saved.csv', index=False)\n"
   ]
  },
  {
   "cell_type": "code",
   "execution_count": 9,
   "id": "eed3fee6-25e2-468f-9031-d5bd2fbe839b",
   "metadata": {},
   "outputs": [],
   "source": [
    "dfx = pd.read_csv(\"titanic_saved.csv\")"
   ]
  },
  {
   "cell_type": "code",
   "execution_count": 10,
   "id": "b5383523-d641-4950-9ebc-bd97b6c1d89f",
   "metadata": {},
   "outputs": [
    {
     "name": "stderr",
     "output_type": "stream",
     "text": [
      "/tmp/ipykernel_79/3580686793.py:3: FutureWarning: The default value of numeric_only in DataFrameGroupBy.sum is deprecated. In a future version, numeric_only will default to False. Either specify numeric_only or select only columns which should be valid for the function.\n",
      "  g.sum()\n"
     ]
    },
    {
     "data": {
      "text/html": [
       "<div>\n",
       "<style scoped>\n",
       "    .dataframe tbody tr th:only-of-type {\n",
       "        vertical-align: middle;\n",
       "    }\n",
       "\n",
       "    .dataframe tbody tr th {\n",
       "        vertical-align: top;\n",
       "    }\n",
       "\n",
       "    .dataframe thead th {\n",
       "        text-align: right;\n",
       "    }\n",
       "</style>\n",
       "<table border=\"1\" class=\"dataframe\">\n",
       "  <thead>\n",
       "    <tr style=\"text-align: right;\">\n",
       "      <th></th>\n",
       "      <th>PassengerId</th>\n",
       "      <th>Pclass</th>\n",
       "      <th>Age</th>\n",
       "      <th>SibSp</th>\n",
       "      <th>Parch</th>\n",
       "      <th>Fare</th>\n",
       "    </tr>\n",
       "    <tr>\n",
       "      <th>Survived</th>\n",
       "      <th></th>\n",
       "      <th></th>\n",
       "      <th></th>\n",
       "      <th></th>\n",
       "      <th></th>\n",
       "      <th></th>\n",
       "    </tr>\n",
       "  </thead>\n",
       "  <tbody>\n",
       "    <tr>\n",
       "      <th>0</th>\n",
       "      <td>245412</td>\n",
       "      <td>1390</td>\n",
       "      <td>12985.50</td>\n",
       "      <td>304</td>\n",
       "      <td>181</td>\n",
       "      <td>12142.7199</td>\n",
       "    </tr>\n",
       "    <tr>\n",
       "      <th>1</th>\n",
       "      <td>151974</td>\n",
       "      <td>667</td>\n",
       "      <td>8219.67</td>\n",
       "      <td>162</td>\n",
       "      <td>159</td>\n",
       "      <td>16551.2294</td>\n",
       "    </tr>\n",
       "  </tbody>\n",
       "</table>\n",
       "</div>"
      ],
      "text/plain": [
       "          PassengerId  Pclass       Age  SibSp  Parch        Fare\n",
       "Survived                                                         \n",
       "0              245412    1390  12985.50    304    181  12142.7199\n",
       "1              151974     667   8219.67    162    159  16551.2294"
      ]
     },
     "execution_count": 10,
     "metadata": {},
     "output_type": "execute_result"
    }
   ],
   "source": [
    "# Group By ----------------------------------------------------------------->\n",
    "g = dfx.groupby('Survived') \n",
    "g.sum() "
   ]
  },
  {
   "cell_type": "code",
   "execution_count": null,
   "id": "b0a30bf1-9185-4a0a-87a0-37250e472715",
   "metadata": {},
   "outputs": [],
   "source": [
    "# Q6. Which of the following is mutable in nature Series, DataFrame, Panel? \n",
    "\n",
    "\n",
    "\"\"\"\n",
    "Series: Mutable\n",
    "DataFrame: Mutable\n",
    "\n",
    "\"\"\""
   ]
  },
  {
   "cell_type": "code",
   "execution_count": 12,
   "id": "2b971462-ec1c-446f-8b21-80bf3cc6fbf9",
   "metadata": {},
   "outputs": [
    {
     "name": "stdout",
     "output_type": "stream",
     "text": [
      "      Name  Age  Grade\n",
      "0     John   18     85\n",
      "1    Emily   19     92\n",
      "2  Michael   20     78\n",
      "3  Jessica   18     95\n",
      "4    David   21     88\n"
     ]
    }
   ],
   "source": [
    "# Q7. Create a DataFrame using multiple Series. Explain with an example\n",
    "\n",
    "\n",
    "import pandas as pd\n",
    "\n",
    "name_series = pd.Series(['John', 'Emily', 'Michael', 'Jessica', 'David'])\n",
    "age_series = pd.Series([18, 19, 20, 18, 21])\n",
    "grade_series = pd.Series([85, 92, 78, 95, 88])\n",
    "\n",
    "\n",
    "df = pd.DataFrame({\n",
    "    'Name': name_series,\n",
    "    'Age': age_series,\n",
    "    'Grade': grade_series\n",
    "})\n",
    "\n",
    "\n",
    "print(df)\n"
   ]
  },
  {
   "cell_type": "code",
   "execution_count": null,
   "id": "e5f38051-ff77-4dd6-bc23-95ba2f0f40eb",
   "metadata": {},
   "outputs": [],
   "source": []
  }
 ],
 "metadata": {
  "kernelspec": {
   "display_name": "Python 3 (ipykernel)",
   "language": "python",
   "name": "python3"
  },
  "language_info": {
   "codemirror_mode": {
    "name": "ipython",
    "version": 3
   },
   "file_extension": ".py",
   "mimetype": "text/x-python",
   "name": "python",
   "nbconvert_exporter": "python",
   "pygments_lexer": "ipython3",
   "version": "3.10.8"
  }
 },
 "nbformat": 4,
 "nbformat_minor": 5
}
