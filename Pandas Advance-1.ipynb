{
 "cells": [
  {
   "cell_type": "code",
   "execution_count": null,
   "id": "06e57a73-cb5f-4800-9224-f73d01a7afc1",
   "metadata": {},
   "outputs": [],
   "source": [
    "#Q1. List any five functions of the pandas library with execution.\n",
    "\n",
    "\n",
    "# read_csv(): This function is used to read data from a CSV file and create a pandas DataFrame.\n",
    "\n",
    "import pandas as pd\n",
    "\n",
    "\n",
    "data = pd.read_csv('Data.csv')\n",
    "\n",
    "print(data.head())\n"
   ]
  },
  {
   "cell_type": "code",
   "execution_count": 4,
   "id": "0d2044d2-6bb4-47f8-9d8e-73ca5535223b",
   "metadata": {},
   "outputs": [
    {
     "name": "stdout",
     "output_type": "stream",
     "text": [
      "   A  B\n",
      "0  1  a\n",
      "1  2  b\n",
      "2  3  c\n"
     ]
    }
   ],
   "source": [
    "# head(): It returns the first n rows of a DataFrame. By default, it returns the first 5 rows.\n",
    "\n",
    "import pandas as pd\n",
    "\n",
    "\n",
    "data = pd.DataFrame({'A': [1, 2, 3, 4, 5], 'B': ['a', 'b', 'c', 'd', 'e']})\n",
    "\n",
    "\n",
    "print(data.head(3))\n"
   ]
  },
  {
   "cell_type": "code",
   "execution_count": 5,
   "id": "652a74b6-a30a-4cba-94e7-51acf134321b",
   "metadata": {},
   "outputs": [
    {
     "name": "stdout",
     "output_type": "stream",
     "text": [
      "<class 'pandas.core.frame.DataFrame'>\n",
      "RangeIndex: 5 entries, 0 to 4\n",
      "Data columns (total 2 columns):\n",
      " #   Column  Non-Null Count  Dtype \n",
      "---  ------  --------------  ----- \n",
      " 0   A       5 non-null      int64 \n",
      " 1   B       5 non-null      object\n",
      "dtypes: int64(1), object(1)\n",
      "memory usage: 208.0+ bytes\n"
     ]
    }
   ],
   "source": [
    "# info(): It provides a concise summary of a DataFrame, including the column names, data types, and memory usage.\n",
    "\n",
    "import pandas as pd\n",
    "\n",
    "\n",
    "data = pd.DataFrame({'A': [1, 2, 3, 4, 5], 'B': ['a', 'b', 'c', 'd', 'e']})\n",
    "\n",
    "data.info()\n"
   ]
  },
  {
   "cell_type": "code",
   "execution_count": 7,
   "id": "59097c3b-ce8f-4de8-b398-a3418da7d8c0",
   "metadata": {},
   "outputs": [],
   "source": [
    "# to_csv(): It is used to write a DataFrame to a CSV file.\n",
    "import pandas as pd\n",
    "\n",
    "\n",
    "data = pd.DataFrame({'A': [1, 2, 3], 'B': ['a', 'b', 'c']})\n",
    "\n",
    "\n",
    "data.to_csv('output.csv', index=True)\n"
   ]
  },
  {
   "cell_type": "code",
   "execution_count": 8,
   "id": "a8c3f940-1a32-43c6-91d8-75db02de134d",
   "metadata": {},
   "outputs": [
    {
     "name": "stdout",
     "output_type": "stream",
     "text": [
      "              A          B           C\n",
      "count  5.000000   5.000000    5.000000\n",
      "mean   3.000000  30.000000  300.000000\n",
      "std    1.581139  15.811388  158.113883\n",
      "min    1.000000  10.000000  100.000000\n",
      "25%    2.000000  20.000000  200.000000\n",
      "50%    3.000000  30.000000  300.000000\n",
      "75%    4.000000  40.000000  400.000000\n",
      "max    5.000000  50.000000  500.000000\n"
     ]
    }
   ],
   "source": [
    "# describe(): It provides descriptive statistics of a DataFrame, including count, mean, standard deviation, minimum value, maximum value, and quartile values.\n",
    "\n",
    "\n",
    "import pandas as pd\n",
    "\n",
    "\n",
    "data = pd.DataFrame({'A': [1, 2, 3, 4, 5],\n",
    "                     'B': [10, 20, 30, 40, 50],\n",
    "                     'C': [100, 200, 300, 400, 500]})\n",
    "\n",
    "\n",
    "statistics = data.describe()\n",
    "\n",
    "\n",
    "print(statistics) \n"
   ]
  },
  {
   "cell_type": "code",
   "execution_count": 11,
   "id": "be8e3757-e059-4293-bdcb-ae57e584b4ee",
   "metadata": {},
   "outputs": [
    {
     "name": "stdout",
     "output_type": "stream",
     "text": [
      "    A   B   C\n",
      "1  10  40  70\n",
      "3  20  50  80\n",
      "5  30  60  90\n"
     ]
    }
   ],
   "source": [
    "# Q2. Given a Pandas DataFrame df with columns 'A', 'B', and 'C', \n",
    "# write a Python function to re-index the DataFrame with a new index that starts from 1 and increments by 2 for each row.\n",
    "\n",
    "\n",
    "import pandas as pd\n",
    "\n",
    "def reindex_dataframe(df):\n",
    "   \n",
    "    new_index = pd.Index(range(1, len(df) * 2, 2))\n",
    "    df = df.set_index(new_index)\n",
    "    \n",
    "    return df\n",
    "\n",
    "\n",
    "df = pd.DataFrame({'A': [10, 20, 30], 'B': [40, 50, 60], 'C': [70, 80, 90]})\n",
    "new_df = reindex_dataframe(df)\n",
    "\n",
    "\n",
    "print(new_df)\n"
   ]
  },
  {
   "cell_type": "code",
   "execution_count": 12,
   "id": "e01502ac-ccc7-4d85-98c9-d41786295444",
   "metadata": {},
   "outputs": [
    {
     "name": "stdout",
     "output_type": "stream",
     "text": [
      "Sum of the first three values: 60\n"
     ]
    }
   ],
   "source": [
    "# Q3. You have a Pandas DataFrame df with a column named 'Values'. \n",
    "# Write a Python function that iterates over the DataFrame and calculates the sum of the first three values in the 'Values' column. \n",
    "# The function should print the sum to the console \n",
    "\n",
    "\n",
    "\n",
    "\n",
    "import pandas as pd\n",
    "\n",
    "def calculate_sum_of_values(df):\n",
    "    values = df['Values'].head(3)\n",
    "    \n",
    "    total_sum = values.sum()\n",
    "    \n",
    "    print(\"Sum of the first three values:\", total_sum) \n",
    "    \n",
    "\n",
    "\n",
    "df = pd.DataFrame({'Values': [10, 20, 30, 40, 50]})\n",
    "calculate_sum_of_values(df)\n",
    "\n"
   ]
  },
  {
   "cell_type": "code",
   "execution_count": 14,
   "id": "1e9a2d23-ed1a-4499-b71a-f33300e26d84",
   "metadata": {},
   "outputs": [
    {
     "name": "stdout",
     "output_type": "stream",
     "text": [
      "                  Text  word_count\n",
      "0  Hello, how are you?           4\n",
      "1    I am doing great!           4\n",
      "2    Python is awesome           3\n"
     ]
    }
   ],
   "source": [
    "# Q4. Given a Pandas DataFrame df with a column 'Text', write a Python function to create a new column 'Word_Count' that contains the number of words in each row of the 'Text' column.\n",
    "\n",
    "\n",
    "import pandas as pd\n",
    "\n",
    "df = pd.DataFrame({'Text': ['Hello, how are you?', 'I am doing great!', 'Python is awesome']})\n",
    "\n",
    "df['word_count'] = df['Text'].apply(lambda x: len(x.split()))\n",
    "\n",
    "print(df)\n",
    "\n",
    "\n"
   ]
  },
  {
   "cell_type": "code",
   "execution_count": 15,
   "id": "38381d31-6467-4621-8f8d-c7e6c0114075",
   "metadata": {},
   "outputs": [
    {
     "name": "stdout",
     "output_type": "stream",
     "text": [
      "6\n"
     ]
    }
   ],
   "source": [
    "# Q5. How are DataFrame.size() and DataFrame.shape() different?\n",
    "\"\"\"\n",
    "DataFrame.size():\n",
    "The DataFrame.size() method returns the total number of elements in the DataFrame. \n",
    "It represents the product of the number of rows and the number of columns in the DataFrame.\n",
    "\n",
    "\"\"\"\n",
    "\n",
    "\n",
    "import pandas as pd\n",
    "\n",
    "df = pd.DataFrame({'A': [1, 2, 3], 'B': [4, 5, 6]})\n",
    "\n",
    "\n",
    "size = df.size\n",
    "\n",
    "print(size)\n"
   ]
  },
  {
   "cell_type": "code",
   "execution_count": 16,
   "id": "c2b02223-5985-4dbf-abcf-7328d63e0d7b",
   "metadata": {},
   "outputs": [
    {
     "name": "stdout",
     "output_type": "stream",
     "text": [
      "(3, 2)\n"
     ]
    }
   ],
   "source": [
    "\"\"\"\n",
    "DataFrame.shape():\n",
    "The DataFrame.shape() method returns a tuple that represents the dimensions of the DataFrame. \n",
    "It provides the number of rows and columns in the DataFrame.\n",
    "\"\"\"\n",
    "\n",
    "\n",
    "import pandas as pd\n",
    "\n",
    "df = pd.DataFrame({'A': [1, 2, 3], 'B': [4, 5, 6]})\n",
    "\n",
    "\n",
    "shape = df.shape\n",
    "\n",
    "print(shape) \n"
   ]
  },
  {
   "cell_type": "code",
   "execution_count": 18,
   "id": "d50a432f-18ad-40fc-87eb-f53f213de0dd",
   "metadata": {},
   "outputs": [],
   "source": [
    "# Q6. Which function of pandas do we use to read an excel file?\n",
    "\n",
    "\n",
    "\"\"\"\n",
    "To read an Excel file in pandas, you can use the read_excel() function. \n",
    "This function is specifically designed to read data from Excel files and create a DataFrame. \n",
    "\"\"\"\n",
    "\n",
    "\n",
    "import pandas as pd\n",
    "# df = pd.read_excel('filename.xlsx') \n"
   ]
  },
  {
   "cell_type": "code",
   "execution_count": 25,
   "id": "40307723-21a3-4c17-b788-54383bfd3eda",
   "metadata": {},
   "outputs": [
    {
     "name": "stdout",
     "output_type": "stream",
     "text": [
      "                          Email          Username\n",
      "0          john.doe@example.com          john.doe\n",
      "1        jane.smith@example.com        jane.smith\n",
      "2  alexander.garcia@example.com  alexander.garcia\n"
     ]
    }
   ],
   "source": [
    "# Q7. You have a Pandas DataFrame df that contains a column named 'Email' that contains email addresses in the format 'username@domain.com'. \n",
    "# Write a Python function that creates a new column 'Username' in df that contains only the username part of each email address.\n",
    "\n",
    "\n",
    "import pandas as pd\n",
    "\n",
    "df = pd.DataFrame({'Email': ['john.doe@example.com', 'jane.smith@example.com', 'alexander.garcia@example.com']})\n",
    "\n",
    "df['Username'] = df['Email'].apply(lambda X: X.split('@')[0])\n",
    "\n",
    "print(df)\n"
   ]
  },
  {
   "cell_type": "code",
   "execution_count": 28,
   "id": "922f5dc8-27ce-48d5-a061-0a93167230d0",
   "metadata": {},
   "outputs": [
    {
     "name": "stdout",
     "output_type": "stream",
     "text": [
      "   A  B  C\n",
      "0  3  5  1\n",
      "1  8  2  7\n",
      "2  6  9  4\n",
      "3  2  3  5\n",
      "4  9  1  2\n",
      "   A  B  C\n",
      "1  8  2  7\n",
      "2  6  9  4\n",
      "4  9  1  2\n"
     ]
    }
   ],
   "source": [
    "# Q8. You have a Pandas DataFrame df with columns 'A', 'B', and 'C'. \n",
    "# Write a Python function that selects all rows where the value in column 'A' is greater than 5 and the value in column 'B' is less than 10. \n",
    "# The function should return a new DataFrame that contains only the selected rows \n",
    "\n",
    "\n",
    "\n",
    "import pandas as pd\n",
    "\n",
    "def select_rows_by_conditions(df):\n",
    "  \n",
    "    selected_rows = df[(df['A'] > 5) & (df['B'] < 10)]\n",
    "    return selected_rows\n",
    "\n",
    "\n",
    "df = pd.DataFrame({'A': [3, 8, 6, 2, 9], 'B': [5, 2, 9, 3, 1], 'C': [1, 7, 4, 5, 2]})\n",
    "print(df)\n",
    "selected_df = select_rows_by_conditions(df)\n",
    "print(selected_df)\n",
    "\n",
    "\n"
   ]
  },
  {
   "cell_type": "code",
   "execution_count": 33,
   "id": "bb245cec-2e0b-4938-b505-0f937b255180",
   "metadata": {},
   "outputs": [
    {
     "name": "stdout",
     "output_type": "stream",
     "text": [
      "Mean: 4.222222222222222\n",
      "Median:: 4.0\n",
      "Standard Deviation: 2.5873624493766707\n"
     ]
    }
   ],
   "source": [
    "# Q9. Given a Pandas DataFrame df with a column 'Values'.\n",
    "# write a Python function to calculate the mean, median, and standard deviation of the values in the 'Values' column\n",
    "import pandas as pd\n",
    "\n",
    "def calculate_statistics(df):\n",
    "    \n",
    "    print(\"Mean:\", df['Values'].mean())\n",
    "    print(\"Median::\", df['Values'].median())\n",
    "    print(\"Standard Deviation:\", df['Values'].std())\n",
    "    return \n",
    "\n",
    "df = pd.DataFrame({'Values': [5, 2, 9, 3, 1, 7, 4, 5, 2]})\n",
    "calculate_statistics(df)\n",
    "\n"
   ]
  },
  {
   "cell_type": "code",
   "execution_count": 37,
   "id": "fd60d39c-77ea-4342-bbb8-7c16b61888bd",
   "metadata": {},
   "outputs": [
    {
     "name": "stdout",
     "output_type": "stream",
     "text": [
      "        Date  Sales  MovingAverage\n",
      "0 2022-01-01     10            NaN\n",
      "1 2022-01-02     15            NaN\n",
      "2 2022-01-03     12            NaN\n",
      "3 2022-01-04      8            NaN\n",
      "4 2022-01-05     14            NaN\n",
      "5 2022-01-06     20            NaN\n",
      "6 2022-01-07     18      13.857143\n",
      "7 2022-01-08     16      14.714286\n",
      "8 2022-01-09     11      14.142857\n",
      "9 2022-01-10     13      14.285714\n"
     ]
    }
   ],
   "source": [
    "# Q10. Given a Pandas DataFrame df with a column 'Sales' and a column 'Date', \n",
    "# write a Python function to create a new column 'MovingAverage' that contains the moving average of the sales for the past 7 days for each row in the DataFrame. \n",
    "# The moving average should be calculated using a window of size 7 and should include the current day.\n",
    "\n",
    "\n",
    "\n",
    "import pandas as pd\n",
    "\n",
    "def calculate_moving_average(df):\n",
    "    df['MovingAverage'] = df['Sales'].rolling(window=7).mean()\n",
    "    return df\n",
    "\n",
    "df = pd.DataFrame({'Date': pd.date_range(start='2022-01-01', end='2022-01-10'), 'Sales': [10, 15, 12, 8, 14, 20, 18, 16, 11, 13]})\n",
    "\n",
    "df = calculate_moving_average(df)\n",
    "\n",
    "print(df)\n"
   ]
  },
  {
   "cell_type": "code",
   "execution_count": 38,
   "id": "7a9e9510-653d-4d7f-a433-a8491337ce4c",
   "metadata": {},
   "outputs": [
    {
     "name": "stdout",
     "output_type": "stream",
     "text": [
      "        Date    Weekday\n",
      "0 2022-01-01   Saturday\n",
      "1 2022-01-02     Sunday\n",
      "2 2022-01-03     Monday\n",
      "3 2022-01-04    Tuesday\n",
      "4 2022-01-05  Wednesday\n",
      "5 2022-01-06   Thursday\n",
      "6 2022-01-07     Friday\n",
      "7 2022-01-08   Saturday\n",
      "8 2022-01-09     Sunday\n",
      "9 2022-01-10     Monday\n"
     ]
    }
   ],
   "source": [
    "# Q11. You have a Pandas DataFrame df with a column 'Date'. \n",
    "# Write a Python function that creates a new column 'Weekday' in the DataFrame. The 'Weekday' column should contain the weekday name (e.g. Monday, Tuesday) corresponding to each date in the 'Date' column.\n",
    "\n",
    "\n",
    "\n",
    "\n",
    "import pandas as pd\n",
    "\n",
    "def add_weekday_column(df):\n",
    "    df['Weekday'] = df['Date'].dt.day_name()\n",
    "    return df\n",
    "\n",
    "\n",
    "df = pd.DataFrame({'Date': pd.date_range(start='2022-01-01', end='2022-01-10')})\n",
    "df = add_weekday_column(df)\n",
    "print(df)\n",
    "\n",
    "\n"
   ]
  },
  {
   "cell_type": "code",
   "execution_count": 45,
   "id": "7af7127a-5fac-436a-a0bd-c7bfe32dac9d",
   "metadata": {},
   "outputs": [
    {
     "name": "stdout",
     "output_type": "stream",
     "text": [
      "         Date\n",
      "2  2023-01-01\n",
      "3  2023-01-02\n",
      "4  2023-01-03\n",
      "5  2023-01-04\n",
      "6  2023-01-05\n",
      "7  2023-01-06\n",
      "8  2023-01-07\n",
      "9  2023-01-08\n",
      "10 2023-01-09\n",
      "11 2023-01-10\n",
      "12 2023-01-11\n",
      "13 2023-01-12\n",
      "14 2023-01-13\n",
      "15 2023-01-14\n",
      "16 2023-01-15\n",
      "17 2023-01-16\n",
      "18 2023-01-17\n",
      "19 2023-01-18\n",
      "20 2023-01-19\n",
      "21 2023-01-20\n",
      "22 2023-01-21\n",
      "23 2023-01-22\n",
      "24 2023-01-23\n",
      "25 2023-01-24\n",
      "26 2023-01-25\n",
      "27 2023-01-26\n",
      "28 2023-01-27\n",
      "29 2023-01-28\n",
      "30 2023-01-29\n",
      "31 2023-01-30\n",
      "32 2023-01-31\n"
     ]
    }
   ],
   "source": [
    "# Q12. Given a Pandas DataFrame df with a column 'Date' that contains timestamps, \n",
    "# write a Python function to select all rows where the date is between '2023-01-01' and '2023-01-31'.\n",
    "\n",
    "\n",
    "\n",
    "import pandas as pd\n",
    "\n",
    "def select_rows_by_date(df):\n",
    "    df['Date'] = pd.to_datetime(df['Date'])\n",
    "    \n",
    "    start_date = pd.to_datetime('2023-01-01') \n",
    "    end_date = pd.to_datetime('2023-01-31') \n",
    "    \n",
    "    selected_rows = df[df['Date'].between(start_date, end_date)]\n",
    "    return selected_rows\n",
    "\n",
    "\n",
    "df = pd.DataFrame({'Date': pd.date_range(start='2022-12-30', end='2023-02-05')})\n",
    "selected_df = select_rows_by_date(df)\n",
    "print(selected_df)\n"
   ]
  },
  {
   "cell_type": "code",
   "execution_count": null,
   "id": "3e23adae-6a52-4d30-b8bb-1c23b3106c25",
   "metadata": {},
   "outputs": [],
   "source": [
    "# Q13. To use the basic functions of pandas, what is the first and foremost necessary library that needs to be imported\n",
    "\n",
    "\n",
    "\"\"\"\n",
    "To use the basic functions of pandas, the first and foremost necessary library that needs to be imported is the pandas library itself.\n",
    "It is typically imported using the following statement:\n",
    "\"\"\"\n",
    "\n",
    "import pandas as pd\n",
    " "
   ]
  }
 ],
 "metadata": {
  "kernelspec": {
   "display_name": "Python 3 (ipykernel)",
   "language": "python",
   "name": "python3"
  },
  "language_info": {
   "codemirror_mode": {
    "name": "ipython",
    "version": 3
   },
   "file_extension": ".py",
   "mimetype": "text/x-python",
   "name": "python",
   "nbconvert_exporter": "python",
   "pygments_lexer": "ipython3",
   "version": "3.10.8"
  }
 },
 "nbformat": 4,
 "nbformat_minor": 5
}
